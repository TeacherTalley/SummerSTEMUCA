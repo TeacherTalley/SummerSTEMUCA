{
 "cells": [
  {
   "cell_type": "markdown",
   "id": "5a535ae9-ca77-43a3-a091-64992a2f7e6e",
   "metadata": {
    "tags": []
   },
   "source": [
    "<p style=\"font-size:300%;color:white;background:#4f2d7f;padding:10px;text-align:center\">\n",
    "    Summer STEM Camp 2023<br>\n",
    "    <font size=5>University of Central Arkansas</font>\n",
    "</p>"
   ]
  },
  {
   "cell_type": "markdown",
   "id": "fa9dfc66-8d7c-4a09-9b37-2dab187892b7",
   "metadata": {
    "tags": []
   },
   "source": [
    "# Graph Exercise Student\n",
    "\n",
    "**Name:** <span style='color:purple'> My Name Here </span>\n",
    "\n",
    "**Instructor:** Ms. Michelle Talley "
   ]
  },
  {
   "cell_type": "markdown",
   "id": "0424ca3a-53d0-47ff-adc6-d677815bb01b",
   "metadata": {},
   "source": [
    "## Topics\n",
    "\n",
    "- Perform specified tasks to learn more about graphing"
   ]
  },
  {
   "cell_type": "code",
   "execution_count": 98,
   "id": "f3560431-2a49-46cb-a82b-24ccaf829b4f",
   "metadata": {},
   "outputs": [],
   "source": [
    "import pandas as pd"
   ]
  },
  {
   "cell_type": "markdown",
   "id": "1de1f060-99be-45a3-adac-d90231e60737",
   "metadata": {
    "tags": []
   },
   "source": [
    "---\n",
    "## Animal Data"
   ]
  },
  {
   "cell_type": "markdown",
   "id": "e1ea5942-02c5-45b1-8560-75cc59ebb899",
   "metadata": {},
   "source": [
    "### Data Sources\n",
    "\n",
    "- ***animals.csv*** - Data about specimens of cows, hogs, sheep, and chickens"
   ]
  },
  {
   "cell_type": "markdown",
   "id": "a11856f2-fc0c-4b1c-ac6a-9a7de0a46073",
   "metadata": {},
   "source": [
    "#### <span style='color:red'> Task </span>\n",
    "\n",
    "Load the animals csv file and display the results."
   ]
  },
  {
   "cell_type": "markdown",
   "id": "2af365b6-d155-41d5-aac0-7b6d75d0b475",
   "metadata": {
    "tags": []
   },
   "source": [
    "#### <span style='color:red'> Task </span>\n",
    "\n",
    "Display the descriptive statistics for the data."
   ]
  },
  {
   "cell_type": "markdown",
   "id": "33612f3e-3784-42af-9de8-bd1525759f4e",
   "metadata": {},
   "source": [
    "## Make a graph plotting the weight of each animal/observation"
   ]
  },
  {
   "cell_type": "markdown",
   "id": "8f16bb0c-afb5-49aa-85fe-08cea6acb4ad",
   "metadata": {
    "tags": []
   },
   "source": [
    "#### <span style='color:red'> Task </span>\n",
    "Make a graph plotting the weight of each animal (row/observation).  \n",
    "\n",
    "Hint, Refer to Lecture 2/Traffic on 3 streets to see how to make a line plot but change the marker to a dot using `marker='o'` and remove the lines between points using `linestyle=''`."
   ]
  },
  {
   "cell_type": "markdown",
   "id": "9e96d103-d2ae-4d08-a447-f7334147413f",
   "metadata": {},
   "source": [
    "## Make a graph plotting the weight of only the chickens"
   ]
  },
  {
   "cell_type": "markdown",
   "id": "e7008282-5b69-44f0-bc31-87d5c7e253ba",
   "metadata": {
    "tags": []
   },
   "source": [
    "#### <span style='color:red'> Task </span>\n",
    "Create a new table that contains the chicken column only and display the results."
   ]
  },
  {
   "cell_type": "markdown",
   "id": "10ab3221-816a-418b-817d-d4a3e43e2952",
   "metadata": {
    "tags": []
   },
   "source": [
    "#### <span style='color:red'> Task </span>\n",
    "Create a line graph with dots for only the chickens. "
   ]
  },
  {
   "cell_type": "markdown",
   "id": "b28e0c41-e9c4-4939-83e2-a35ce81b739b",
   "metadata": {
    "tags": []
   },
   "source": [
    "#### <span style='color:red'> Task </span>\n",
    "Make a box plot for the animal weights by species."
   ]
  },
  {
   "cell_type": "markdown",
   "id": "b41410a2-df5e-4673-b301-c78c9574abaa",
   "metadata": {},
   "source": [
    "## Make a bar graph with each observation's weight"
   ]
  },
  {
   "cell_type": "markdown",
   "id": "6a8ee0e8-e47c-42bb-ba5a-6e475227135b",
   "metadata": {
    "tags": []
   },
   "source": [
    "#### <span style='color:red'> Task </span>\n",
    "Make a bar graph showing each observation's weight"
   ]
  },
  {
   "cell_type": "markdown",
   "id": "5d8d533b-581e-49b5-b16c-e18f7443c66b",
   "metadata": {},
   "source": [
    "## Make a bar graph with each cow's weight"
   ]
  },
  {
   "cell_type": "markdown",
   "id": "d44f27a4-a18b-4979-8e31-20d7f95bc1fe",
   "metadata": {
    "tags": []
   },
   "source": [
    "#### <span style='color:red'> Task </span>\n",
    "Make a graph plotting the weight of each cow observation."
   ]
  },
  {
   "cell_type": "markdown",
   "id": "9d847a4d-fc3a-4a4a-bb1d-ae2ca12f2bbb",
   "metadata": {
    "tags": []
   },
   "source": [
    "## Make a graph plotting the mean weight of each species"
   ]
  },
  {
   "cell_type": "markdown",
   "id": "e8e332ef-6219-4558-8358-0683a37a7c21",
   "metadata": {
    "tags": []
   },
   "source": [
    "#### <span style='color:red'> Task </span>\n",
    "Make a bar graph plotting the mean weight of each species. \n",
    "\n",
    "Hint: Use `mean()` to calculate the mean."
   ]
  },
  {
   "cell_type": "markdown",
   "id": "73cc988d-a181-487d-ace5-947058003c59",
   "metadata": {
    "tags": []
   },
   "source": [
    "## Make a histogram of the weight distribution (bins) of each species"
   ]
  },
  {
   "cell_type": "markdown",
   "id": "937b0be3-ce32-45d6-a1cf-0673519b488b",
   "metadata": {
    "tags": []
   },
   "source": [
    "#### <span style='color:red'> Task </span>\n",
    "Make a histogram of the weight distribution of each species."
   ]
  },
  {
   "cell_type": "markdown",
   "id": "ae81df55-2f5e-4cfc-8aa3-9e3f0ce4b041",
   "metadata": {},
   "source": [
    "## Make a histogram of the weight distribution (bins) of hogs"
   ]
  },
  {
   "cell_type": "markdown",
   "id": "6df8d4dc-412f-4925-bb47-a213fdbeb0f5",
   "metadata": {
    "tags": []
   },
   "source": [
    "#### <span style='color:red'> Task </span>\n",
    "Make a histogram of the weight distribution of only the hogs."
   ]
  },
  {
   "cell_type": "markdown",
   "id": "6d11df07-ea8d-4ab0-9e67-1d8709b2ae8d",
   "metadata": {},
   "source": [
    "## Part 2 - Dealing with data categories in rows"
   ]
  },
  {
   "cell_type": "markdown",
   "id": "ba3ee9e5-d73f-423a-87e4-89b857e6d2f3",
   "metadata": {
    "tags": []
   },
   "source": [
    "### Data Sources\n",
    "\n",
    "- ***animals_tidy.csv*** - Data about specimens of cows, hogs, sheep, and chickens in \"tidy\" data format"
   ]
  },
  {
   "cell_type": "markdown",
   "id": "4c477b1c-74ec-4244-a0e2-51375a5809d9",
   "metadata": {
    "tags": []
   },
   "source": [
    "#### <span style='color:red'> Task </span>\n",
    "Load animals_tidy data and display."
   ]
  },
  {
   "cell_type": "markdown",
   "id": "4d5a8c38-5472-4d10-8118-cfe5252c0913",
   "metadata": {
    "tags": []
   },
   "source": [
    "#### <span style='color:red'> Task </span>\n",
    "Display the descriptive statistics."
   ]
  },
  {
   "cell_type": "markdown",
   "id": "128a4f78-608d-4079-94bb-220ac4c7810c",
   "metadata": {},
   "source": [
    "### Create separate tables for each animal"
   ]
  },
  {
   "cell_type": "markdown",
   "id": "dfe26048-9d4a-4147-9713-277c72dee965",
   "metadata": {
    "tags": []
   },
   "source": [
    "#### <span style='color:red'> Task </span>\n",
    "Make 4 separate tables for each species (cow, chicken, hog, and sheep) by selecting the appropriate rows from the full dataframe. \n"
   ]
  },
  {
   "cell_type": "markdown",
   "id": "a96186a5-98a1-44a6-962a-f69b40cbc61a",
   "metadata": {},
   "source": [
    "## Make a graph plotting the weight of each animal (observation)"
   ]
  },
  {
   "cell_type": "markdown",
   "id": "8e4a3ead-0080-4275-8a68-8c36bbe038a3",
   "metadata": {
    "tags": []
   },
   "source": [
    "#### <span style='color:red'> Task </span>\n",
    "Make a graph plotting the weight of each animal (observation)"
   ]
  },
  {
   "cell_type": "markdown",
   "id": "9dab1d3f-8b04-4213-9023-e7fc0eef2e29",
   "metadata": {},
   "source": [
    "Change the marker to a dot using `marker='o'` and remove the lines between points using `linestyle=''`."
   ]
  },
  {
   "cell_type": "markdown",
   "id": "7f3d57c4-a773-4f51-806d-2e887c7374a9",
   "metadata": {},
   "source": [
    "## Make a graph plotting the weight of each chicken observation"
   ]
  },
  {
   "cell_type": "markdown",
   "id": "8e63a72d-62d2-4384-b1e2-3b4b55d0b5e5",
   "metadata": {
    "tags": []
   },
   "source": [
    "#### <span style='color:red'> Task </span>\n",
    "Make a graph plotting the weight of each chicken"
   ]
  },
  {
   "cell_type": "markdown",
   "id": "e13207de-9478-4b83-bcb3-6b04a64ea94a",
   "metadata": {},
   "source": [
    "## Make a box plot for the weight of cows."
   ]
  },
  {
   "cell_type": "markdown",
   "id": "fa17c63a-ddba-4f48-88dd-2ab2029493c4",
   "metadata": {
    "tags": []
   },
   "source": [
    "#### <span style='color:red'> Task </span>\n",
    "Make a box plot of the cow weight."
   ]
  },
  {
   "cell_type": "markdown",
   "id": "790516ab-2b50-4210-a31d-dddc2629b648",
   "metadata": {},
   "source": [
    "---\n",
    "<p style=\"font-size:70%;color:white;background:#4f2d7f;padding:10px;text-align:center\">\n",
    "    Copyright 2023 University of Central Arkansas\n",
    "</p>"
   ]
  }
 ],
 "metadata": {
  "kernelspec": {
   "display_name": "Python 3 (ipykernel)",
   "language": "python",
   "name": "python3"
  },
  "language_info": {
   "codemirror_mode": {
    "name": "ipython",
    "version": 3
   },
   "file_extension": ".py",
   "mimetype": "text/x-python",
   "name": "python",
   "nbconvert_exporter": "python",
   "pygments_lexer": "ipython3",
   "version": "3.10.9"
  }
 },
 "nbformat": 4,
 "nbformat_minor": 5
}
