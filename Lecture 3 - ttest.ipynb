{
 "cells": [
  {
   "cell_type": "markdown",
   "id": "5a535ae9-ca77-43a3-a091-64992a2f7e6e",
   "metadata": {
    "tags": []
   },
   "source": [
    "<p style=\"font-size:300%;color:white;background:#4f2d7f;padding:10px;text-align:center\">\n",
    "    Summer STEM Camp 2023<br>\n",
    "    <font size=5>University of Central Arkansas</font>\n",
    "</p>"
   ]
  },
  {
   "cell_type": "markdown",
   "id": "fa9dfc66-8d7c-4a09-9b37-2dab187892b7",
   "metadata": {
    "tags": []
   },
   "source": [
    "# Lecture x:  T-test\n",
    "Last modified date: 6/12/23"
   ]
  },
  {
   "cell_type": "markdown",
   "id": "0424ca3a-53d0-47ff-adc6-d677815bb01b",
   "metadata": {},
   "source": [
    "## Topics\n",
    "\n",
    "Perform T-test against multiple COVID case data sets."
   ]
  },
  {
   "cell_type": "markdown",
   "id": "11058d65-6869-4c7d-ac4a-e0b5fec4e078",
   "metadata": {
    "tags": []
   },
   "source": [
    "### Importing Python Modules"
   ]
  },
  {
   "cell_type": "code",
   "execution_count": 1,
   "id": "4cc43732-9c02-47e0-bc84-697f5ccb324e",
   "metadata": {},
   "outputs": [],
   "source": [
    "import pandas as pd\n",
    "from scipy.stats import ttest_ind"
   ]
  },
  {
   "cell_type": "markdown",
   "id": "4c5c0010-4b1c-4b44-a60e-b58a6e222932",
   "metadata": {
    "tags": []
   },
   "source": [
    "### Data Source\n",
    "- ***covidArkansas.csv*** - Daily positive cases in Arkansas\n",
    "- ***covidMississippi.csv*** - Daily positive cases in Mississippi\n",
    "- ***covidVermont.csv*** - Daily positive cases in Vermont"
   ]
  },
  {
   "cell_type": "code",
   "execution_count": 2,
   "id": "533cb25f-1407-49cc-92dc-a0d5aad2ae5a",
   "metadata": {
    "tags": []
   },
   "outputs": [],
   "source": [
    "ar_datafile = 'covidArkansas.csv'\n",
    "ms_datafile = 'covidMississippi.csv'\n",
    "vt_datafile = 'covidVermont.csv'"
   ]
  },
  {
   "cell_type": "code",
   "execution_count": 50,
   "id": "2cfe0d45-6962-43bc-98ed-48b956098df8",
   "metadata": {
    "tags": []
   },
   "outputs": [
    {
     "data": {
      "text/html": [
       "<div>\n",
       "<style scoped>\n",
       "    .dataframe tbody tr th:only-of-type {\n",
       "        vertical-align: middle;\n",
       "    }\n",
       "\n",
       "    .dataframe tbody tr th {\n",
       "        vertical-align: top;\n",
       "    }\n",
       "\n",
       "    .dataframe thead th {\n",
       "        text-align: right;\n",
       "    }\n",
       "</style>\n",
       "<table border=\"1\" class=\"dataframe\">\n",
       "  <thead>\n",
       "    <tr style=\"text-align: right;\">\n",
       "      <th></th>\n",
       "      <th>AR Cases</th>\n",
       "    </tr>\n",
       "  </thead>\n",
       "  <tbody>\n",
       "    <tr>\n",
       "      <th>0</th>\n",
       "      <td>0</td>\n",
       "    </tr>\n",
       "    <tr>\n",
       "      <th>1</th>\n",
       "      <td>0</td>\n",
       "    </tr>\n",
       "    <tr>\n",
       "      <th>2</th>\n",
       "      <td>0</td>\n",
       "    </tr>\n",
       "    <tr>\n",
       "      <th>3</th>\n",
       "      <td>0</td>\n",
       "    </tr>\n",
       "    <tr>\n",
       "      <th>4</th>\n",
       "      <td>0</td>\n",
       "    </tr>\n",
       "    <tr>\n",
       "      <th>...</th>\n",
       "      <td>...</td>\n",
       "    </tr>\n",
       "    <tr>\n",
       "      <th>362</th>\n",
       "      <td>404</td>\n",
       "    </tr>\n",
       "    <tr>\n",
       "      <th>363</th>\n",
       "      <td>403</td>\n",
       "    </tr>\n",
       "    <tr>\n",
       "      <th>364</th>\n",
       "      <td>570</td>\n",
       "    </tr>\n",
       "    <tr>\n",
       "      <th>365</th>\n",
       "      <td>327</td>\n",
       "    </tr>\n",
       "    <tr>\n",
       "      <th>366</th>\n",
       "      <td>165</td>\n",
       "    </tr>\n",
       "  </tbody>\n",
       "</table>\n",
       "<p>367 rows × 1 columns</p>\n",
       "</div>"
      ],
      "text/plain": [
       "     AR Cases\n",
       "0           0\n",
       "1           0\n",
       "2           0\n",
       "3           0\n",
       "4           0\n",
       "..        ...\n",
       "362       404\n",
       "363       403\n",
       "364       570\n",
       "365       327\n",
       "366       165\n",
       "\n",
       "[367 rows x 1 columns]"
      ]
     },
     "execution_count": 50,
     "metadata": {},
     "output_type": "execute_result"
    }
   ],
   "source": [
    "ar = pd.read_csv(ar_datafile, names=['AR Cases'])\n",
    "ar"
   ]
  },
  {
   "cell_type": "code",
   "execution_count": 51,
   "id": "5d8f7e31-cb53-43b1-9048-004a59f1c4ed",
   "metadata": {
    "tags": []
   },
   "outputs": [
    {
     "data": {
      "text/html": [
       "<div>\n",
       "<style scoped>\n",
       "    .dataframe tbody tr th:only-of-type {\n",
       "        vertical-align: middle;\n",
       "    }\n",
       "\n",
       "    .dataframe tbody tr th {\n",
       "        vertical-align: top;\n",
       "    }\n",
       "\n",
       "    .dataframe thead th {\n",
       "        text-align: right;\n",
       "    }\n",
       "</style>\n",
       "<table border=\"1\" class=\"dataframe\">\n",
       "  <thead>\n",
       "    <tr style=\"text-align: right;\">\n",
       "      <th></th>\n",
       "      <th>MS Cases</th>\n",
       "    </tr>\n",
       "  </thead>\n",
       "  <tbody>\n",
       "    <tr>\n",
       "      <th>0</th>\n",
       "      <td>0</td>\n",
       "    </tr>\n",
       "    <tr>\n",
       "      <th>1</th>\n",
       "      <td>0</td>\n",
       "    </tr>\n",
       "    <tr>\n",
       "      <th>2</th>\n",
       "      <td>0</td>\n",
       "    </tr>\n",
       "    <tr>\n",
       "      <th>3</th>\n",
       "      <td>0</td>\n",
       "    </tr>\n",
       "    <tr>\n",
       "      <th>4</th>\n",
       "      <td>0</td>\n",
       "    </tr>\n",
       "    <tr>\n",
       "      <th>...</th>\n",
       "      <td>...</td>\n",
       "    </tr>\n",
       "    <tr>\n",
       "      <th>361</th>\n",
       "      <td>380</td>\n",
       "    </tr>\n",
       "    <tr>\n",
       "      <th>362</th>\n",
       "      <td>479</td>\n",
       "    </tr>\n",
       "    <tr>\n",
       "      <th>363</th>\n",
       "      <td>591</td>\n",
       "    </tr>\n",
       "    <tr>\n",
       "      <th>364</th>\n",
       "      <td>576</td>\n",
       "    </tr>\n",
       "    <tr>\n",
       "      <th>365</th>\n",
       "      <td>260</td>\n",
       "    </tr>\n",
       "  </tbody>\n",
       "</table>\n",
       "<p>366 rows × 1 columns</p>\n",
       "</div>"
      ],
      "text/plain": [
       "     MS Cases\n",
       "0           0\n",
       "1           0\n",
       "2           0\n",
       "3           0\n",
       "4           0\n",
       "..        ...\n",
       "361       380\n",
       "362       479\n",
       "363       591\n",
       "364       576\n",
       "365       260\n",
       "\n",
       "[366 rows x 1 columns]"
      ]
     },
     "execution_count": 51,
     "metadata": {},
     "output_type": "execute_result"
    }
   ],
   "source": [
    "ms = pd.read_csv(ms_datafile, names=['MS Cases'])\n",
    "ms"
   ]
  },
  {
   "cell_type": "code",
   "execution_count": 52,
   "id": "74ed1248-9848-4b3f-a860-0349a0f84bc7",
   "metadata": {
    "tags": []
   },
   "outputs": [
    {
     "data": {
      "text/html": [
       "<div>\n",
       "<style scoped>\n",
       "    .dataframe tbody tr th:only-of-type {\n",
       "        vertical-align: middle;\n",
       "    }\n",
       "\n",
       "    .dataframe tbody tr th {\n",
       "        vertical-align: top;\n",
       "    }\n",
       "\n",
       "    .dataframe thead th {\n",
       "        text-align: right;\n",
       "    }\n",
       "</style>\n",
       "<table border=\"1\" class=\"dataframe\">\n",
       "  <thead>\n",
       "    <tr style=\"text-align: right;\">\n",
       "      <th></th>\n",
       "      <th>VT Cases</th>\n",
       "    </tr>\n",
       "  </thead>\n",
       "  <tbody>\n",
       "    <tr>\n",
       "      <th>0</th>\n",
       "      <td>0</td>\n",
       "    </tr>\n",
       "    <tr>\n",
       "      <th>1</th>\n",
       "      <td>0</td>\n",
       "    </tr>\n",
       "    <tr>\n",
       "      <th>2</th>\n",
       "      <td>0</td>\n",
       "    </tr>\n",
       "    <tr>\n",
       "      <th>3</th>\n",
       "      <td>0</td>\n",
       "    </tr>\n",
       "    <tr>\n",
       "      <th>4</th>\n",
       "      <td>0</td>\n",
       "    </tr>\n",
       "    <tr>\n",
       "      <th>...</th>\n",
       "      <td>...</td>\n",
       "    </tr>\n",
       "    <tr>\n",
       "      <th>365</th>\n",
       "      <td>115</td>\n",
       "    </tr>\n",
       "    <tr>\n",
       "      <th>366</th>\n",
       "      <td>199</td>\n",
       "    </tr>\n",
       "    <tr>\n",
       "      <th>367</th>\n",
       "      <td>133</td>\n",
       "    </tr>\n",
       "    <tr>\n",
       "      <th>368</th>\n",
       "      <td>145</td>\n",
       "    </tr>\n",
       "    <tr>\n",
       "      <th>369</th>\n",
       "      <td>119</td>\n",
       "    </tr>\n",
       "  </tbody>\n",
       "</table>\n",
       "<p>370 rows × 1 columns</p>\n",
       "</div>"
      ],
      "text/plain": [
       "     VT Cases\n",
       "0           0\n",
       "1           0\n",
       "2           0\n",
       "3           0\n",
       "4           0\n",
       "..        ...\n",
       "365       115\n",
       "366       199\n",
       "367       133\n",
       "368       145\n",
       "369       119\n",
       "\n",
       "[370 rows x 1 columns]"
      ]
     },
     "execution_count": 52,
     "metadata": {},
     "output_type": "execute_result"
    }
   ],
   "source": [
    "vt = pd.read_csv(vt_datafile, names=['VT Cases'])\n",
    "vt"
   ]
  },
  {
   "cell_type": "markdown",
   "id": "4119a81a-49a2-424c-8401-bc073fdc8210",
   "metadata": {},
   "source": [
    "## Get summary statistics for each state"
   ]
  },
  {
   "cell_type": "code",
   "execution_count": 78,
   "id": "b0b20dfc-759a-4d27-bd43-f699627e358d",
   "metadata": {},
   "outputs": [
    {
     "data": {
      "text/html": [
       "<div>\n",
       "<style scoped>\n",
       "    .dataframe tbody tr th:only-of-type {\n",
       "        vertical-align: middle;\n",
       "    }\n",
       "\n",
       "    .dataframe tbody tr th {\n",
       "        vertical-align: top;\n",
       "    }\n",
       "\n",
       "    .dataframe thead th {\n",
       "        text-align: right;\n",
       "    }\n",
       "</style>\n",
       "<table border=\"1\" class=\"dataframe\">\n",
       "  <thead>\n",
       "    <tr style=\"text-align: right;\">\n",
       "      <th></th>\n",
       "      <th>AR Cases</th>\n",
       "    </tr>\n",
       "  </thead>\n",
       "  <tbody>\n",
       "    <tr>\n",
       "      <th>count</th>\n",
       "      <td>367.000000</td>\n",
       "    </tr>\n",
       "    <tr>\n",
       "      <th>mean</th>\n",
       "      <td>887.242507</td>\n",
       "    </tr>\n",
       "    <tr>\n",
       "      <th>std</th>\n",
       "      <td>871.066684</td>\n",
       "    </tr>\n",
       "    <tr>\n",
       "      <th>min</th>\n",
       "      <td>0.000000</td>\n",
       "    </tr>\n",
       "    <tr>\n",
       "      <th>25%</th>\n",
       "      <td>152.500000</td>\n",
       "    </tr>\n",
       "    <tr>\n",
       "      <th>50%</th>\n",
       "      <td>662.000000</td>\n",
       "    </tr>\n",
       "    <tr>\n",
       "      <th>75%</th>\n",
       "      <td>1273.000000</td>\n",
       "    </tr>\n",
       "    <tr>\n",
       "      <th>max</th>\n",
       "      <td>4304.000000</td>\n",
       "    </tr>\n",
       "  </tbody>\n",
       "</table>\n",
       "</div>"
      ],
      "text/plain": [
       "          AR Cases\n",
       "count   367.000000\n",
       "mean    887.242507\n",
       "std     871.066684\n",
       "min       0.000000\n",
       "25%     152.500000\n",
       "50%     662.000000\n",
       "75%    1273.000000\n",
       "max    4304.000000"
      ]
     },
     "execution_count": 78,
     "metadata": {},
     "output_type": "execute_result"
    }
   ],
   "source": [
    "ar.describe()"
   ]
  },
  {
   "cell_type": "markdown",
   "id": "b4b95f25-d5cf-4a6e-9c71-c6b75ff76c54",
   "metadata": {},
   "source": [
    "Sample standard deviation"
   ]
  },
  {
   "cell_type": "code",
   "execution_count": 79,
   "id": "e4c0ec60-abb8-446a-8908-bb4a735424ee",
   "metadata": {},
   "outputs": [
    {
     "data": {
      "text/plain": [
       "871.0666839029719"
      ]
     },
     "execution_count": 79,
     "metadata": {},
     "output_type": "execute_result"
    }
   ],
   "source": [
    "ar['AR Cases'].std(ddof=1)"
   ]
  },
  {
   "cell_type": "markdown",
   "id": "1df802ac-d646-4b78-9489-22e84d484cea",
   "metadata": {},
   "source": [
    "Population standard deviation"
   ]
  },
  {
   "cell_type": "code",
   "execution_count": 80,
   "id": "50420e62-f709-4ff3-b1df-98bfa33195a7",
   "metadata": {},
   "outputs": [
    {
     "data": {
      "text/plain": [
       "869.8791350428037"
      ]
     },
     "execution_count": 80,
     "metadata": {},
     "output_type": "execute_result"
    }
   ],
   "source": [
    "ar['AR Cases'].std(ddof=0)"
   ]
  },
  {
   "cell_type": "code",
   "execution_count": 54,
   "id": "a0862a69-6b6f-45ba-bf7d-e6e8632b049a",
   "metadata": {},
   "outputs": [
    {
     "data": {
      "text/html": [
       "<div>\n",
       "<style scoped>\n",
       "    .dataframe tbody tr th:only-of-type {\n",
       "        vertical-align: middle;\n",
       "    }\n",
       "\n",
       "    .dataframe tbody tr th {\n",
       "        vertical-align: top;\n",
       "    }\n",
       "\n",
       "    .dataframe thead th {\n",
       "        text-align: right;\n",
       "    }\n",
       "</style>\n",
       "<table border=\"1\" class=\"dataframe\">\n",
       "  <thead>\n",
       "    <tr style=\"text-align: right;\">\n",
       "      <th></th>\n",
       "      <th>MS Cases</th>\n",
       "    </tr>\n",
       "  </thead>\n",
       "  <tbody>\n",
       "    <tr>\n",
       "      <th>count</th>\n",
       "      <td>366.000000</td>\n",
       "    </tr>\n",
       "    <tr>\n",
       "      <th>mean</th>\n",
       "      <td>813.062842</td>\n",
       "    </tr>\n",
       "    <tr>\n",
       "      <th>std</th>\n",
       "      <td>697.979800</td>\n",
       "    </tr>\n",
       "    <tr>\n",
       "      <th>min</th>\n",
       "      <td>0.000000</td>\n",
       "    </tr>\n",
       "    <tr>\n",
       "      <th>25%</th>\n",
       "      <td>260.500000</td>\n",
       "    </tr>\n",
       "    <tr>\n",
       "      <th>50%</th>\n",
       "      <td>660.500000</td>\n",
       "    </tr>\n",
       "    <tr>\n",
       "      <th>75%</th>\n",
       "      <td>1163.250000</td>\n",
       "    </tr>\n",
       "    <tr>\n",
       "      <th>max</th>\n",
       "      <td>3255.000000</td>\n",
       "    </tr>\n",
       "  </tbody>\n",
       "</table>\n",
       "</div>"
      ],
      "text/plain": [
       "          MS Cases\n",
       "count   366.000000\n",
       "mean    813.062842\n",
       "std     697.979800\n",
       "min       0.000000\n",
       "25%     260.500000\n",
       "50%     660.500000\n",
       "75%    1163.250000\n",
       "max    3255.000000"
      ]
     },
     "execution_count": 54,
     "metadata": {},
     "output_type": "execute_result"
    }
   ],
   "source": [
    "ms.describe()"
   ]
  },
  {
   "cell_type": "code",
   "execution_count": 55,
   "id": "402b9583-256a-4f60-b72e-2b1195273982",
   "metadata": {},
   "outputs": [
    {
     "data": {
      "text/html": [
       "<div>\n",
       "<style scoped>\n",
       "    .dataframe tbody tr th:only-of-type {\n",
       "        vertical-align: middle;\n",
       "    }\n",
       "\n",
       "    .dataframe tbody tr th {\n",
       "        vertical-align: top;\n",
       "    }\n",
       "\n",
       "    .dataframe thead th {\n",
       "        text-align: right;\n",
       "    }\n",
       "</style>\n",
       "<table border=\"1\" class=\"dataframe\">\n",
       "  <thead>\n",
       "    <tr style=\"text-align: right;\">\n",
       "      <th></th>\n",
       "      <th>VT Cases</th>\n",
       "    </tr>\n",
       "  </thead>\n",
       "  <tbody>\n",
       "    <tr>\n",
       "      <th>count</th>\n",
       "      <td>370.000000</td>\n",
       "    </tr>\n",
       "    <tr>\n",
       "      <th>mean</th>\n",
       "      <td>43.467568</td>\n",
       "    </tr>\n",
       "    <tr>\n",
       "      <th>std</th>\n",
       "      <td>56.471978</td>\n",
       "    </tr>\n",
       "    <tr>\n",
       "      <th>min</th>\n",
       "      <td>0.000000</td>\n",
       "    </tr>\n",
       "    <tr>\n",
       "      <th>25%</th>\n",
       "      <td>4.000000</td>\n",
       "    </tr>\n",
       "    <tr>\n",
       "      <th>50%</th>\n",
       "      <td>11.000000</td>\n",
       "    </tr>\n",
       "    <tr>\n",
       "      <th>75%</th>\n",
       "      <td>79.750000</td>\n",
       "    </tr>\n",
       "    <tr>\n",
       "      <th>max</th>\n",
       "      <td>277.000000</td>\n",
       "    </tr>\n",
       "  </tbody>\n",
       "</table>\n",
       "</div>"
      ],
      "text/plain": [
       "         VT Cases\n",
       "count  370.000000\n",
       "mean    43.467568\n",
       "std     56.471978\n",
       "min      0.000000\n",
       "25%      4.000000\n",
       "50%     11.000000\n",
       "75%     79.750000\n",
       "max    277.000000"
      ]
     },
     "execution_count": 55,
     "metadata": {},
     "output_type": "execute_result"
    }
   ],
   "source": [
    "vt.describe()"
   ]
  },
  {
   "cell_type": "code",
   "execution_count": 69,
   "id": "954bcde6-6e2a-4424-9469-6908076b800f",
   "metadata": {
    "tags": []
   },
   "outputs": [
    {
     "data": {
      "image/png": "[encoded data removed]",
      "text/plain": [
       "<Figure size 1500x700 with 1 Axes>"
      ]
     },
     "metadata": {},
     "output_type": "display_data"
    }
   ],
   "source": [
    "graphtype='line'\n",
    "graphtitle = f'COVID Cases - Arkansas, Mississippi, and Vermont'\n",
    "\n",
    "figsize = (15, 7)\n",
    "\n",
    "xlabel = 'Day'\n",
    "ylabel = 'Number of cases'\n",
    "\n",
    "ax = ar.plot(kind=graphtype, \n",
    "             title=graphtitle,\n",
    "             grid=True,\n",
    "             xlabel=xlabel,\n",
    "             ylabel=ylabel,\n",
    "             marker='o',\n",
    "             linestyle='',\n",
    "             color='steelblue',\n",
    "             figsize=figsize\n",
    "            )\n",
    "\n",
    "ax = ms.plot(kind=graphtype, \n",
    "             title=graphtitle,\n",
    "             grid=True,\n",
    "             xlabel=xlabel,\n",
    "             ylabel=ylabel,\n",
    "             marker='o',\n",
    "             linestyle='',\n",
    "             color='darkorange',\n",
    "             figsize=figsize,\n",
    "             ax=ax\n",
    "            )\n",
    "\n",
    "ax = vt.plot(kind=graphtype, \n",
    "             title=graphtitle,\n",
    "             grid=True,\n",
    "             xlabel=xlabel,\n",
    "             ylabel=ylabel,\n",
    "             marker='o',\n",
    "             linestyle='',\n",
    "             color='green',\n",
    "             figsize=figsize,\n",
    "             ax=ax\n",
    "            )\n"
   ]
  },
  {
   "cell_type": "code",
   "execution_count": 74,
   "id": "619d74d6-cbd0-4285-a74b-ad294740f543",
   "metadata": {},
   "outputs": [
    {
     "name": "stdout",
     "output_type": "stream",
     "text": [
      "T-statistic value:  1.2720652092964517\n",
      "P-Value:  0.20375446346720702\n"
     ]
    }
   ],
   "source": [
    "t_stat, p_value = ttest_ind(ar['AR Cases'], ms['MS Cases'])\n",
    "print(\"T-statistic value: \", t_stat)  \n",
    "print(\"P-Value: \", p_value)"
   ]
  },
  {
   "cell_type": "code",
   "execution_count": 75,
   "id": "dee417f6-269e-4d52-a02d-7b14007b98f9",
   "metadata": {},
   "outputs": [
    {
     "name": "stdout",
     "output_type": "stream",
     "text": [
      "T-statistic value:  18.59346288987551\n",
      "P-Value:  1.5359040972443602e-63\n"
     ]
    }
   ],
   "source": [
    "t_stat, p_value = ttest_ind(ar['AR Cases'], vt['VT Cases'])\n",
    "print(\"T-statistic value: \", t_stat)  \n",
    "print(\"P-Value: \", p_value)"
   ]
  },
  {
   "cell_type": "code",
   "execution_count": 76,
   "id": "3443c519-a346-4725-b419-498d09fe90cd",
   "metadata": {},
   "outputs": [
    {
     "name": "stdout",
     "output_type": "stream",
     "text": [
      "T-statistic value:  21.139335419472108\n",
      "P-Value:  7.781702761323749e-78\n"
     ]
    }
   ],
   "source": [
    "t_stat, p_value = ttest_ind(ms['MS Cases'], vt['VT Cases'])\n",
    "print(\"T-statistic value: \", t_stat)  \n",
    "print(\"P-Value: \", p_value)"
   ]
  },
  {
   "cell_type": "markdown",
   "id": "8ee2c99d-f97a-4010-88fd-4b41a1061139",
   "metadata": {},
   "source": [
    "### Demonstrate with states in a DataFrame"
   ]
  },
  {
   "cell_type": "code",
   "execution_count": 58,
   "id": "eb716e18-f705-44e5-8fca-1804e9e81d57",
   "metadata": {},
   "outputs": [],
   "source": [
    "states = pd.concat([ar, ms, vt], axis='columns')"
   ]
  },
  {
   "cell_type": "code",
   "execution_count": 59,
   "id": "c9c0c5df-bb5f-42b6-a8f5-8a0be4620bfd",
   "metadata": {},
   "outputs": [
    {
     "data": {
      "text/html": [
       "<div>\n",
       "<style scoped>\n",
       "    .dataframe tbody tr th:only-of-type {\n",
       "        vertical-align: middle;\n",
       "    }\n",
       "\n",
       "    .dataframe tbody tr th {\n",
       "        vertical-align: top;\n",
       "    }\n",
       "\n",
       "    .dataframe thead th {\n",
       "        text-align: right;\n",
       "    }\n",
       "</style>\n",
       "<table border=\"1\" class=\"dataframe\">\n",
       "  <thead>\n",
       "    <tr style=\"text-align: right;\">\n",
       "      <th></th>\n",
       "      <th>AR Cases</th>\n",
       "      <th>MS Cases</th>\n",
       "      <th>VT Cases</th>\n",
       "    </tr>\n",
       "  </thead>\n",
       "  <tbody>\n",
       "    <tr>\n",
       "      <th>0</th>\n",
       "      <td>0.0</td>\n",
       "      <td>0.0</td>\n",
       "      <td>0</td>\n",
       "    </tr>\n",
       "    <tr>\n",
       "      <th>1</th>\n",
       "      <td>0.0</td>\n",
       "      <td>0.0</td>\n",
       "      <td>0</td>\n",
       "    </tr>\n",
       "    <tr>\n",
       "      <th>2</th>\n",
       "      <td>0.0</td>\n",
       "      <td>0.0</td>\n",
       "      <td>0</td>\n",
       "    </tr>\n",
       "    <tr>\n",
       "      <th>3</th>\n",
       "      <td>0.0</td>\n",
       "      <td>0.0</td>\n",
       "      <td>0</td>\n",
       "    </tr>\n",
       "    <tr>\n",
       "      <th>4</th>\n",
       "      <td>0.0</td>\n",
       "      <td>0.0</td>\n",
       "      <td>0</td>\n",
       "    </tr>\n",
       "    <tr>\n",
       "      <th>...</th>\n",
       "      <td>...</td>\n",
       "      <td>...</td>\n",
       "      <td>...</td>\n",
       "    </tr>\n",
       "    <tr>\n",
       "      <th>365</th>\n",
       "      <td>327.0</td>\n",
       "      <td>260.0</td>\n",
       "      <td>115</td>\n",
       "    </tr>\n",
       "    <tr>\n",
       "      <th>366</th>\n",
       "      <td>165.0</td>\n",
       "      <td>NaN</td>\n",
       "      <td>199</td>\n",
       "    </tr>\n",
       "    <tr>\n",
       "      <th>367</th>\n",
       "      <td>NaN</td>\n",
       "      <td>NaN</td>\n",
       "      <td>133</td>\n",
       "    </tr>\n",
       "    <tr>\n",
       "      <th>368</th>\n",
       "      <td>NaN</td>\n",
       "      <td>NaN</td>\n",
       "      <td>145</td>\n",
       "    </tr>\n",
       "    <tr>\n",
       "      <th>369</th>\n",
       "      <td>NaN</td>\n",
       "      <td>NaN</td>\n",
       "      <td>119</td>\n",
       "    </tr>\n",
       "  </tbody>\n",
       "</table>\n",
       "<p>370 rows × 3 columns</p>\n",
       "</div>"
      ],
      "text/plain": [
       "     AR Cases  MS Cases  VT Cases\n",
       "0         0.0       0.0         0\n",
       "1         0.0       0.0         0\n",
       "2         0.0       0.0         0\n",
       "3         0.0       0.0         0\n",
       "4         0.0       0.0         0\n",
       "..        ...       ...       ...\n",
       "365     327.0     260.0       115\n",
       "366     165.0       NaN       199\n",
       "367       NaN       NaN       133\n",
       "368       NaN       NaN       145\n",
       "369       NaN       NaN       119\n",
       "\n",
       "[370 rows x 3 columns]"
      ]
     },
     "execution_count": 59,
     "metadata": {},
     "output_type": "execute_result"
    }
   ],
   "source": [
    "states"
   ]
  },
  {
   "cell_type": "code",
   "execution_count": 60,
   "id": "1cd0d0b9-d441-4dbd-815d-12d3084cabd2",
   "metadata": {},
   "outputs": [
    {
     "data": {
      "text/html": [
       "<div>\n",
       "<style scoped>\n",
       "    .dataframe tbody tr th:only-of-type {\n",
       "        vertical-align: middle;\n",
       "    }\n",
       "\n",
       "    .dataframe tbody tr th {\n",
       "        vertical-align: top;\n",
       "    }\n",
       "\n",
       "    .dataframe thead th {\n",
       "        text-align: right;\n",
       "    }\n",
       "</style>\n",
       "<table border=\"1\" class=\"dataframe\">\n",
       "  <thead>\n",
       "    <tr style=\"text-align: right;\">\n",
       "      <th></th>\n",
       "      <th>AR Cases</th>\n",
       "      <th>MS Cases</th>\n",
       "      <th>VT Cases</th>\n",
       "    </tr>\n",
       "  </thead>\n",
       "  <tbody>\n",
       "    <tr>\n",
       "      <th>count</th>\n",
       "      <td>367.000000</td>\n",
       "      <td>366.000000</td>\n",
       "      <td>370.000000</td>\n",
       "    </tr>\n",
       "    <tr>\n",
       "      <th>mean</th>\n",
       "      <td>887.242507</td>\n",
       "      <td>813.062842</td>\n",
       "      <td>43.467568</td>\n",
       "    </tr>\n",
       "    <tr>\n",
       "      <th>std</th>\n",
       "      <td>871.066684</td>\n",
       "      <td>697.979800</td>\n",
       "      <td>56.471978</td>\n",
       "    </tr>\n",
       "    <tr>\n",
       "      <th>min</th>\n",
       "      <td>0.000000</td>\n",
       "      <td>0.000000</td>\n",
       "      <td>0.000000</td>\n",
       "    </tr>\n",
       "    <tr>\n",
       "      <th>25%</th>\n",
       "      <td>152.500000</td>\n",
       "      <td>260.500000</td>\n",
       "      <td>4.000000</td>\n",
       "    </tr>\n",
       "    <tr>\n",
       "      <th>50%</th>\n",
       "      <td>662.000000</td>\n",
       "      <td>660.500000</td>\n",
       "      <td>11.000000</td>\n",
       "    </tr>\n",
       "    <tr>\n",
       "      <th>75%</th>\n",
       "      <td>1273.000000</td>\n",
       "      <td>1163.250000</td>\n",
       "      <td>79.750000</td>\n",
       "    </tr>\n",
       "    <tr>\n",
       "      <th>max</th>\n",
       "      <td>4304.000000</td>\n",
       "      <td>3255.000000</td>\n",
       "      <td>277.000000</td>\n",
       "    </tr>\n",
       "  </tbody>\n",
       "</table>\n",
       "</div>"
      ],
      "text/plain": [
       "          AR Cases     MS Cases    VT Cases\n",
       "count   367.000000   366.000000  370.000000\n",
       "mean    887.242507   813.062842   43.467568\n",
       "std     871.066684   697.979800   56.471978\n",
       "min       0.000000     0.000000    0.000000\n",
       "25%     152.500000   260.500000    4.000000\n",
       "50%     662.000000   660.500000   11.000000\n",
       "75%    1273.000000  1163.250000   79.750000\n",
       "max    4304.000000  3255.000000  277.000000"
      ]
     },
     "execution_count": 60,
     "metadata": {},
     "output_type": "execute_result"
    }
   ],
   "source": [
    "states.describe()"
   ]
  },
  {
   "cell_type": "markdown",
   "id": "d5d12e30-7eeb-4b6e-8232-1cec9f3936c9",
   "metadata": {},
   "source": [
    "What are the total cases by state?"
   ]
  },
  {
   "cell_type": "code",
   "execution_count": 81,
   "id": "df6c54ff-83d8-4128-9e46-f8238bf791e0",
   "metadata": {},
   "outputs": [
    {
     "data": {
      "text/plain": [
       "AR Cases    325618.0\n",
       "MS Cases    297581.0\n",
       "VT Cases     16083.0\n",
       "dtype: float64"
      ]
     },
     "execution_count": 81,
     "metadata": {},
     "output_type": "execute_result"
    }
   ],
   "source": [
    "states.sum()"
   ]
  },
  {
   "cell_type": "markdown",
   "id": "3231418e-d8c5-4c4a-aefb-51914a5960c1",
   "metadata": {},
   "source": [
    "What is the grand total of cases across all the states?"
   ]
  },
  {
   "cell_type": "code",
   "execution_count": 82,
   "id": "23fc2765-3ee0-4e93-86c6-7e9b6479958e",
   "metadata": {},
   "outputs": [
    {
     "data": {
      "text/plain": [
       "639282.0"
      ]
     },
     "execution_count": 82,
     "metadata": {},
     "output_type": "execute_result"
    }
   ],
   "source": [
    "states.sum().sum()"
   ]
  },
  {
   "cell_type": "code",
   "execution_count": 61,
   "id": "4dad7a70-b9fe-41a4-a4a5-e67dadef13e1",
   "metadata": {
    "tags": []
   },
   "outputs": [
    {
     "data": {
      "image/png": "[encoded data removed]",
      "text/plain": [
       "<Figure size 1500x700 with 1 Axes>"
      ]
     },
     "metadata": {},
     "output_type": "display_data"
    }
   ],
   "source": [
    "graphtype='line'\n",
    "graphtitle = f'COVID Cases - Arkansas, Mississippi, and Vermont'\n",
    "\n",
    "figsize = (15, 7)\n",
    "\n",
    "xlabel = 'Day'\n",
    "ylabel = 'Number of cases'\n",
    "\n",
    "ax = states.plot(kind=graphtype, \n",
    "                 title=graphtitle,\n",
    "                 grid=True,\n",
    "                 xlabel=xlabel,\n",
    "                 ylabel=ylabel,\n",
    "                 marker='o',\n",
    "                 linestyle='',\n",
    "                 figsize=figsize\n",
    "                )"
   ]
  },
  {
   "cell_type": "code",
   "execution_count": 63,
   "id": "3d73ab2a-bf58-4dcc-a1ef-d855877b9ea0",
   "metadata": {},
   "outputs": [
    {
     "name": "stdout",
     "output_type": "stream",
     "text": [
      "T-statistic value:  1.2720652092964517\n",
      "P-Value:  0.20375446346720702\n"
     ]
    }
   ],
   "source": [
    "t_stat, p_value = ttest_ind(states['AR Cases'].dropna(), states['MS Cases'].dropna())\n",
    "print(\"T-statistic value: \", t_stat)  \n",
    "print(\"P-Value: \", p_value)"
   ]
  },
  {
   "cell_type": "code",
   "execution_count": 64,
   "id": "db7cf5ce-adec-4e6c-af5b-127b4070074c",
   "metadata": {},
   "outputs": [
    {
     "name": "stdout",
     "output_type": "stream",
     "text": [
      "T-statistic value:  18.59346288987551\n",
      "P-Value:  1.5359040972443602e-63\n"
     ]
    }
   ],
   "source": [
    "t_stat, p_value = ttest_ind(states['AR Cases'].dropna(), states['VT Cases'].dropna())\n",
    "print(\"T-statistic value: \", t_stat)  \n",
    "print(\"P-Value: \", p_value)"
   ]
  },
  {
   "cell_type": "code",
   "execution_count": 65,
   "id": "bd7b566d-cb04-4534-9650-2f700f50c214",
   "metadata": {},
   "outputs": [
    {
     "name": "stdout",
     "output_type": "stream",
     "text": [
      "T-statistic value:  21.139335419472108\n",
      "P-Value:  7.781702761323749e-78\n"
     ]
    }
   ],
   "source": [
    "t_stat, p_value = ttest_ind(states['MS Cases'].dropna(), states['VT Cases'].dropna())\n",
    "print(\"T-statistic value: \", t_stat)  \n",
    "print(\"P-Value: \", p_value)"
   ]
  },
  {
   "cell_type": "markdown",
   "id": "790516ab-2b50-4210-a31d-dddc2629b648",
   "metadata": {
    "tags": []
   },
   "source": [
    "---\n",
    "<p style=\"font-size:70%;color:white;background:#4f2d7f;padding:10px;text-align:center\">\n",
    "    Copyright 2023 University of Central Arkansas\n",
    "</p>"
   ]
  }
 ],
 "metadata": {
  "kernelspec": {
   "display_name": "Python 3 (ipykernel)",
   "language": "python",
   "name": "python3"
  },
  "language_info": {
   "codemirror_mode": {
    "name": "ipython",
    "version": 3
   },
   "file_extension": ".py",
   "mimetype": "text/x-python",
   "name": "python",
   "nbconvert_exporter": "python",
   "pygments_lexer": "ipython3",
   "version": "3.10.9"
  }
 },
 "nbformat": 4,
 "nbformat_minor": 5
}
